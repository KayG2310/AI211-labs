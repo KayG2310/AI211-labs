{
 "cells": [
  {
   "cell_type": "markdown",
   "metadata": {
    "id": "jGgH41b-Xfa6"
   },
   "source": [
    "# **LINEAR REGRESSION**\n",
    "\n",
    "In the last lab, you learn't about the Exploratory Data Analysis (EDA) which have a lot of importance before performing any task on the data. Afterwards, you did linear regression using the Ordinary Least Squares (OLS) method.\n",
    "\n",
    "In this lab, you would perform **Linear Regression** on various datasets using **Gradient Descent** Method."
   ]
  },
  {
   "cell_type": "markdown",
   "metadata": {
    "id": "JK0G9sZkbYh_"
   },
   "source": [
    "**DATA SETS**\n",
    "\n",
    "From your last lab's knowledge you know that any dataset from real world can be imported as a **Dataframe** and be processed on.\n",
    "\n",
    "But, this time direclty import the datasets from the scikit module.\n",
    "Yes, scikit-learn has some inbuilt-datasets too. These however are small datasets for experimentations and learning as you would do now.\n",
    "\n",
    "---\n",
    "Refer the following links to import the respective datasets\n",
    "\n",
    "[**Diabetes Dataset**](https://scikit-learn.org/stable/modules/generated/sklearn.datasets.load_diabetes.html#sklearn.datasets.load_diabetes)\n",
    "\n",
    "[**California Housing Dataset**](https://scikit-learn.org/stable/modules/generated/sklearn.datasets.fetch_california_housing.html#sklearn.datasets.fetch_california_housing)\n"
   ]
  },
  {
   "cell_type": "raw",
   "metadata": {},
   "source": [
    "PART ONE ---> Diabetes Dataset"
   ]
  },
  {
   "cell_type": "markdown",
   "metadata": {
    "id": "IbhWg1plo--H"
   },
   "source": [
    "**TASK 1**:\n",
    "\n",
    "\n",
    "\n",
    "1.   Import these Datasets in your notebook.\n",
    "2.   Treat the last column of the datasets as the Depedent Variable (Y) with the other columns as Independent variables.\n",
    "1.  Do the sufficient EDA as per your needs with justifiable reasonings.\n",
    "\n",
    "\n",
    "\n",
    "\n",
    "\n"
   ]
  },
  {
   "cell_type": "code",
   "execution_count": 11,
   "metadata": {},
   "outputs": [],
   "source": [
    "#importing all necessary modules \n",
    "import sklearn as sk\n",
    "import matplotlib\n",
    "import pandas as pd\n",
    "import numpy as np\n",
    "from sklearn.datasets import load_diabetes"
   ]
  },
  {
   "cell_type": "code",
   "execution_count": 21,
   "metadata": {
    "id": "8KqA4iSoo2vg"
   },
   "outputs": [],
   "source": [
    "df_partone = load_diabetes(return_X_y=True, as_frame=True)"
   ]
  },
  {
   "cell_type": "code",
   "execution_count": 25,
   "metadata": {},
   "outputs": [],
   "source": [
    "# df1_partone = df_partone.data\n",
    "# df1_partone['target'] = df_partone.target "
   ]
  },
  {
   "cell_type": "code",
   "execution_count": 27,
   "metadata": {},
   "outputs": [
    {
     "data": {
      "text/html": [
       "<div>\n",
       "<style scoped>\n",
       "    .dataframe tbody tr th:only-of-type {\n",
       "        vertical-align: middle;\n",
       "    }\n",
       "\n",
       "    .dataframe tbody tr th {\n",
       "        vertical-align: top;\n",
       "    }\n",
       "\n",
       "    .dataframe thead th {\n",
       "        text-align: right;\n",
       "    }\n",
       "</style>\n",
       "<table border=\"1\" class=\"dataframe\">\n",
       "  <thead>\n",
       "    <tr style=\"text-align: right;\">\n",
       "      <th></th>\n",
       "      <th>age</th>\n",
       "      <th>sex</th>\n",
       "      <th>bmi</th>\n",
       "      <th>bp</th>\n",
       "      <th>s1</th>\n",
       "      <th>s2</th>\n",
       "      <th>s3</th>\n",
       "      <th>s4</th>\n",
       "      <th>s5</th>\n",
       "      <th>s6</th>\n",
       "      <th>target</th>\n",
       "    </tr>\n",
       "  </thead>\n",
       "  <tbody>\n",
       "    <tr>\n",
       "      <th>0</th>\n",
       "      <td>0.038076</td>\n",
       "      <td>0.050680</td>\n",
       "      <td>0.061696</td>\n",
       "      <td>0.021872</td>\n",
       "      <td>-0.044223</td>\n",
       "      <td>-0.034821</td>\n",
       "      <td>-0.043401</td>\n",
       "      <td>-0.002592</td>\n",
       "      <td>0.019907</td>\n",
       "      <td>-0.017646</td>\n",
       "      <td>151.0</td>\n",
       "    </tr>\n",
       "    <tr>\n",
       "      <th>1</th>\n",
       "      <td>-0.001882</td>\n",
       "      <td>-0.044642</td>\n",
       "      <td>-0.051474</td>\n",
       "      <td>-0.026328</td>\n",
       "      <td>-0.008449</td>\n",
       "      <td>-0.019163</td>\n",
       "      <td>0.074412</td>\n",
       "      <td>-0.039493</td>\n",
       "      <td>-0.068332</td>\n",
       "      <td>-0.092204</td>\n",
       "      <td>75.0</td>\n",
       "    </tr>\n",
       "    <tr>\n",
       "      <th>2</th>\n",
       "      <td>0.085299</td>\n",
       "      <td>0.050680</td>\n",
       "      <td>0.044451</td>\n",
       "      <td>-0.005670</td>\n",
       "      <td>-0.045599</td>\n",
       "      <td>-0.034194</td>\n",
       "      <td>-0.032356</td>\n",
       "      <td>-0.002592</td>\n",
       "      <td>0.002861</td>\n",
       "      <td>-0.025930</td>\n",
       "      <td>141.0</td>\n",
       "    </tr>\n",
       "    <tr>\n",
       "      <th>3</th>\n",
       "      <td>-0.089063</td>\n",
       "      <td>-0.044642</td>\n",
       "      <td>-0.011595</td>\n",
       "      <td>-0.036656</td>\n",
       "      <td>0.012191</td>\n",
       "      <td>0.024991</td>\n",
       "      <td>-0.036038</td>\n",
       "      <td>0.034309</td>\n",
       "      <td>0.022688</td>\n",
       "      <td>-0.009362</td>\n",
       "      <td>206.0</td>\n",
       "    </tr>\n",
       "    <tr>\n",
       "      <th>4</th>\n",
       "      <td>0.005383</td>\n",
       "      <td>-0.044642</td>\n",
       "      <td>-0.036385</td>\n",
       "      <td>0.021872</td>\n",
       "      <td>0.003935</td>\n",
       "      <td>0.015596</td>\n",
       "      <td>0.008142</td>\n",
       "      <td>-0.002592</td>\n",
       "      <td>-0.031988</td>\n",
       "      <td>-0.046641</td>\n",
       "      <td>135.0</td>\n",
       "    </tr>\n",
       "  </tbody>\n",
       "</table>\n",
       "</div>"
      ],
      "text/plain": [
       "        age       sex       bmi        bp        s1        s2        s3  \\\n",
       "0  0.038076  0.050680  0.061696  0.021872 -0.044223 -0.034821 -0.043401   \n",
       "1 -0.001882 -0.044642 -0.051474 -0.026328 -0.008449 -0.019163  0.074412   \n",
       "2  0.085299  0.050680  0.044451 -0.005670 -0.045599 -0.034194 -0.032356   \n",
       "3 -0.089063 -0.044642 -0.011595 -0.036656  0.012191  0.024991 -0.036038   \n",
       "4  0.005383 -0.044642 -0.036385  0.021872  0.003935  0.015596  0.008142   \n",
       "\n",
       "         s4        s5        s6  target  \n",
       "0 -0.002592  0.019907 -0.017646   151.0  \n",
       "1 -0.039493 -0.068332 -0.092204    75.0  \n",
       "2 -0.002592  0.002861 -0.025930   141.0  \n",
       "3  0.034309  0.022688 -0.009362   206.0  \n",
       "4 -0.002592 -0.031988 -0.046641   135.0  "
      ]
     },
     "execution_count": 27,
     "metadata": {},
     "output_type": "execute_result"
    }
   ],
   "source": [
    "df1_partone.head()"
   ]
  },
  {
   "cell_type": "code",
   "execution_count": 31,
   "metadata": {},
   "outputs": [
    {
     "data": {
      "text/plain": [
       "(442, 11)"
      ]
     },
     "execution_count": 31,
     "metadata": {},
     "output_type": "execute_result"
    }
   ],
   "source": [
    "df1_partone.shape"
   ]
  },
  {
   "cell_type": "markdown",
   "metadata": {
    "id": "EcAFN9zwEKd1"
   },
   "source": [
    "**TASK 2**:\n",
    "\n",
    "\n",
    "1.   Split the data into Train (85%) and Test Set (15%).\n",
    "\n",
    "\n"
   ]
  },
  {
   "cell_type": "code",
   "execution_count": 35,
   "metadata": {},
   "outputs": [],
   "source": [
    "#importing necessary stuff for this task \n",
    "from sklearn.model_selection import train_test_split as tt"
   ]
  },
  {
   "cell_type": "code",
   "execution_count": 37,
   "metadata": {},
   "outputs": [],
   "source": [
    "X_diabetes = df1_partone.drop(['target'], axis = 'columns')\n",
    "Y_diabetes = df1_partone['target']"
   ]
  },
  {
   "cell_type": "code",
   "execution_count": 41,
   "metadata": {
    "id": "jnggroNoFmVW"
   },
   "outputs": [],
   "source": [
    "xtrain_diabetes, xtest_diabetes, ytrain_diabetes, ytest_diabetes = tt(X_diabetes, Y_diabetes, test_size = 0.15, random_state = 42)"
   ]
  },
  {
   "cell_type": "code",
   "execution_count": 43,
   "metadata": {},
   "outputs": [
    {
     "data": {
      "text/html": [
       "<div>\n",
       "<style scoped>\n",
       "    .dataframe tbody tr th:only-of-type {\n",
       "        vertical-align: middle;\n",
       "    }\n",
       "\n",
       "    .dataframe tbody tr th {\n",
       "        vertical-align: top;\n",
       "    }\n",
       "\n",
       "    .dataframe thead th {\n",
       "        text-align: right;\n",
       "    }\n",
       "</style>\n",
       "<table border=\"1\" class=\"dataframe\">\n",
       "  <thead>\n",
       "    <tr style=\"text-align: right;\">\n",
       "      <th></th>\n",
       "      <th>age</th>\n",
       "      <th>sex</th>\n",
       "      <th>bmi</th>\n",
       "      <th>bp</th>\n",
       "      <th>s1</th>\n",
       "      <th>s2</th>\n",
       "      <th>s3</th>\n",
       "      <th>s4</th>\n",
       "      <th>s5</th>\n",
       "      <th>s6</th>\n",
       "    </tr>\n",
       "  </thead>\n",
       "  <tbody>\n",
       "    <tr>\n",
       "      <th>388</th>\n",
       "      <td>0.052606</td>\n",
       "      <td>0.050680</td>\n",
       "      <td>-0.024529</td>\n",
       "      <td>0.056301</td>\n",
       "      <td>-0.007073</td>\n",
       "      <td>-0.005072</td>\n",
       "      <td>-0.021311</td>\n",
       "      <td>-0.002592</td>\n",
       "      <td>0.026717</td>\n",
       "      <td>-0.038357</td>\n",
       "    </tr>\n",
       "    <tr>\n",
       "      <th>374</th>\n",
       "      <td>-0.107226</td>\n",
       "      <td>-0.044642</td>\n",
       "      <td>-0.034229</td>\n",
       "      <td>-0.067642</td>\n",
       "      <td>-0.063487</td>\n",
       "      <td>-0.070520</td>\n",
       "      <td>0.008142</td>\n",
       "      <td>-0.039493</td>\n",
       "      <td>-0.000612</td>\n",
       "      <td>-0.079778</td>\n",
       "    </tr>\n",
       "    <tr>\n",
       "      <th>25</th>\n",
       "      <td>-0.067268</td>\n",
       "      <td>0.050680</td>\n",
       "      <td>-0.012673</td>\n",
       "      <td>-0.040099</td>\n",
       "      <td>-0.015328</td>\n",
       "      <td>0.004636</td>\n",
       "      <td>-0.058127</td>\n",
       "      <td>0.034309</td>\n",
       "      <td>0.019196</td>\n",
       "      <td>-0.034215</td>\n",
       "    </tr>\n",
       "    <tr>\n",
       "      <th>185</th>\n",
       "      <td>-0.074533</td>\n",
       "      <td>0.050680</td>\n",
       "      <td>-0.018062</td>\n",
       "      <td>0.008101</td>\n",
       "      <td>-0.019456</td>\n",
       "      <td>-0.024800</td>\n",
       "      <td>-0.065491</td>\n",
       "      <td>0.034309</td>\n",
       "      <td>0.067318</td>\n",
       "      <td>-0.017646</td>\n",
       "    </tr>\n",
       "    <tr>\n",
       "      <th>203</th>\n",
       "      <td>-0.001882</td>\n",
       "      <td>0.050680</td>\n",
       "      <td>0.030440</td>\n",
       "      <td>0.052858</td>\n",
       "      <td>0.039710</td>\n",
       "      <td>0.056619</td>\n",
       "      <td>-0.039719</td>\n",
       "      <td>0.071210</td>\n",
       "      <td>0.025395</td>\n",
       "      <td>0.027917</td>\n",
       "    </tr>\n",
       "  </tbody>\n",
       "</table>\n",
       "</div>"
      ],
      "text/plain": [
       "          age       sex       bmi        bp        s1        s2        s3  \\\n",
       "388  0.052606  0.050680 -0.024529  0.056301 -0.007073 -0.005072 -0.021311   \n",
       "374 -0.107226 -0.044642 -0.034229 -0.067642 -0.063487 -0.070520  0.008142   \n",
       "25  -0.067268  0.050680 -0.012673 -0.040099 -0.015328  0.004636 -0.058127   \n",
       "185 -0.074533  0.050680 -0.018062  0.008101 -0.019456 -0.024800 -0.065491   \n",
       "203 -0.001882  0.050680  0.030440  0.052858  0.039710  0.056619 -0.039719   \n",
       "\n",
       "           s4        s5        s6  \n",
       "388 -0.002592  0.026717 -0.038357  \n",
       "374 -0.039493 -0.000612 -0.079778  \n",
       "25   0.034309  0.019196 -0.034215  \n",
       "185  0.034309  0.067318 -0.017646  \n",
       "203  0.071210  0.025395  0.027917  "
      ]
     },
     "execution_count": 43,
     "metadata": {},
     "output_type": "execute_result"
    }
   ],
   "source": [
    "xtrain_diabetes.head()"
   ]
  },
  {
   "cell_type": "code",
   "execution_count": 45,
   "metadata": {},
   "outputs": [
    {
     "data": {
      "text/plain": [
       "(375, 10)"
      ]
     },
     "execution_count": 45,
     "metadata": {},
     "output_type": "execute_result"
    }
   ],
   "source": [
    "xtrain_diabetes.shape"
   ]
  },
  {
   "cell_type": "code",
   "execution_count": 47,
   "metadata": {},
   "outputs": [
    {
     "data": {
      "text/plain": [
       "(67, 10)"
      ]
     },
     "execution_count": 47,
     "metadata": {},
     "output_type": "execute_result"
    }
   ],
   "source": [
    "xtest_diabetes.shape"
   ]
  },
  {
   "cell_type": "code",
   "execution_count": 49,
   "metadata": {},
   "outputs": [
    {
     "data": {
      "text/plain": [
       "388    110.0\n",
       "374    140.0\n",
       "25     202.0\n",
       "185    101.0\n",
       "203    222.0\n",
       "Name: target, dtype: float64"
      ]
     },
     "execution_count": 49,
     "metadata": {},
     "output_type": "execute_result"
    }
   ],
   "source": [
    "ytrain_diabetes.head()"
   ]
  },
  {
   "cell_type": "code",
   "execution_count": 51,
   "metadata": {},
   "outputs": [
    {
     "data": {
      "text/plain": [
       "(375,)"
      ]
     },
     "execution_count": 51,
     "metadata": {},
     "output_type": "execute_result"
    }
   ],
   "source": [
    "ytrain_diabetes.shape"
   ]
  },
  {
   "cell_type": "code",
   "execution_count": 53,
   "metadata": {},
   "outputs": [
    {
     "data": {
      "text/plain": [
       "(67,)"
      ]
     },
     "execution_count": 53,
     "metadata": {},
     "output_type": "execute_result"
    }
   ],
   "source": [
    "ytest_diabetes.shape"
   ]
  },
  {
   "cell_type": "markdown",
   "metadata": {
    "id": "-JFMDpDBFm9J"
   },
   "source": [
    "**TASK 3**\n",
    "\n",
    "\n",
    "1.   Implement a Linear Regression Model with Stochastic Gradient Descent Method.\n",
    "2.   The implementation of the stochastic gradient descent method should be as per the method taught in the theory class. Make sure the update rule's implementation should be done by you **(No inbuilt direct function should be used for this task).**\n",
    "3.   Try different values of the learning rates and epochs. Understand their effects on the training process.\n",
    "4.   Make sure to have multiple 2D plots for the loss function w.r.t. Iterations and Epochs for different learning rates.\n",
    "\n"
   ]
  },
  {
   "cell_type": "code",
   "execution_count": 55,
   "metadata": {
    "id": "FxAZfa4GHydZ"
   },
   "outputs": [],
   "source": [
    "import matplotlib.pyplot as plt"
   ]
  },
  {
   "cell_type": "code",
   "execution_count": 61,
   "metadata": {},
   "outputs": [],
   "source": [
    "def initialize_weights(n_features):\n",
    "    weights = np.zeros(n_features)\n",
    "    bias = 0\n",
    "    return weights, bias\n",
    "# Compute Mean Squared Error (MSE)\n",
    "def compute_loss(X, Y, weights, bias):\n",
    "    y_pred = np.dot(X, weights) + bias\n",
    "    loss = np.mean((Y - y_pred) ** 2)\n",
    "    return loss"
   ]
  },
  {
   "cell_type": "code",
   "execution_count": 63,
   "metadata": {},
   "outputs": [],
   "source": [
    "def stochastic_gradient_descent(X, Y, learning_rate=0.01, epochs=100):\n",
    "    n_samples, n_features = X.shape\n",
    "    weights, bias = initialize_weights(n_features)\n",
    "    \n",
    "    loss_history = []  # Store loss values for plotting\n",
    "\n",
    "    for epoch in range(epochs):\n",
    "        for i in range(n_samples):\n",
    "            xi = X[i]\n",
    "            yi = Y[i]\n",
    "            \n",
    "            # Prediction\n",
    "            y_pred = np.dot(xi, weights) + bias\n",
    "            \n",
    "            # Compute gradients\n",
    "            error = y_pred - yi\n",
    "            dW = xi * error\n",
    "            dB = error\n",
    "            \n",
    "            # Update weights and bias\n",
    "            weights -= learning_rate * dW\n",
    "            bias -= learning_rate * dB\n",
    "            \n",
    "        # Compute loss after each epoch\n",
    "        loss = compute_loss(X, Y, weights, bias)\n",
    "        loss_history.append(loss)\n",
    "\n",
    "    return weights, bias, loss_history\n"
   ]
  },
  {
   "cell_type": "code",
   "execution_count": 79,
   "metadata": {},
   "outputs": [
    {
     "data": {
      "image/png": "[encoded data removed]",
      "text/plain": [
       "<Figure size 1000x500 with 1 Axes>"
      ]
     },
     "metadata": {},
     "output_type": "display_data"
    }
   ],
   "source": [
    "learning_rates = [0.01, 0.1, 0.001]\n",
    "epochs = 100\n",
    "plt.figure(figsize=(10, 5))\n",
    "\n",
    "for lr in learning_rates:\n",
    "    _, _, loss_hist = stochastic_gradient_descent(xtrain_diabetes.values, ytrain_diabetes.values, learning_rate=lr, epochs=epochs)\n",
    "    plt.plot(range(epochs), loss_hist, label=f'LR = {lr}')\n",
    "\n",
    "plt.xlabel('Epochs')\n",
    "plt.ylabel('Loss (MSE)')\n",
    "plt.title('Loss vs Epochs for different Learning Rates')\n",
    "plt.legend()\n",
    "plt.show()"
   ]
  },
  {
   "cell_type": "markdown",
   "metadata": {
    "id": "aidL0csQH0TH"
   },
   "source": [
    "**TASK 4**:\n",
    "  \n",
    "\n",
    "1.   Test the above model on the Test set as already split above.\n",
    "2.   Report the final performance metrics (RMSE, MAE,R² ).\n",
    "\n"
   ]
  },
  {
   "cell_type": "code",
   "execution_count": 67,
   "metadata": {
    "id": "fqOApI0nJ5QA"
   },
   "outputs": [],
   "source": [
    "from sklearn.metrics import mean_squared_error, mean_absolute_error, r2_score"
   ]
  },
  {
   "cell_type": "code",
   "execution_count": 69,
   "metadata": {},
   "outputs": [],
   "source": [
    "def predict(X, weights, bias):\n",
    "    return np.dot(X, weights) + bias"
   ]
  },
  {
   "cell_type": "code",
   "execution_count": 83,
   "metadata": {},
   "outputs": [
    {
     "name": "stdout",
     "output_type": "stream",
     "text": [
      "Root Mean Squared Error (RMSE): 55.9270\n",
      "Mean Absolute Error (MAE): 44.1979\n",
      "R² Score: 0.4274\n"
     ]
    }
   ],
   "source": [
    "weights, bias, _ = stochastic_gradient_descent(xtrain_diabetes.values, ytrain_diabetes.values, learning_rate=0.01, epochs=200)\n",
    "y_pred = predict(xtest_diabetes.values, weights, bias)\n",
    "\n",
    "rmse = np.sqrt(mean_squared_error(ytest_diabetes.values, y_pred))\n",
    "mae = mean_absolute_error(ytest_diabetes.values, y_pred)\n",
    "r2 = r2_score(ytest_diabetes.values, y_pred)\n",
    "\n",
    "print(f\"Root Mean Squared Error (RMSE): {rmse:.4f}\")\n",
    "print(f\"Mean Absolute Error (MAE): {mae:.4f}\")\n",
    "print(f\"R² Score: {r2:.4f}\")"
   ]
  },
  {
   "cell_type": "code",
   "execution_count": 99,
   "metadata": {},
   "outputs": [
    {
     "data": {
      "text/html": [
       "<div>\n",
       "<style scoped>\n",
       "    .dataframe tbody tr th:only-of-type {\n",
       "        vertical-align: middle;\n",
       "    }\n",
       "\n",
       "    .dataframe tbody tr th {\n",
       "        vertical-align: top;\n",
       "    }\n",
       "\n",
       "    .dataframe thead th {\n",
       "        text-align: right;\n",
       "    }\n",
       "</style>\n",
       "<table border=\"1\" class=\"dataframe\">\n",
       "  <thead>\n",
       "    <tr style=\"text-align: right;\">\n",
       "      <th></th>\n",
       "      <th>epochs</th>\n",
       "      <th>rmse</th>\n",
       "      <th>mae</th>\n",
       "      <th>r^2</th>\n",
       "    </tr>\n",
       "  </thead>\n",
       "  <tbody>\n",
       "    <tr>\n",
       "      <th>0</th>\n",
       "      <td>50</td>\n",
       "      <td>58.072886</td>\n",
       "      <td>47.465601</td>\n",
       "      <td>0.382650</td>\n",
       "    </tr>\n",
       "    <tr>\n",
       "      <th>1</th>\n",
       "      <td>100</td>\n",
       "      <td>56.315298</td>\n",
       "      <td>45.061619</td>\n",
       "      <td>0.419453</td>\n",
       "    </tr>\n",
       "    <tr>\n",
       "      <th>2</th>\n",
       "      <td>200</td>\n",
       "      <td>55.927006</td>\n",
       "      <td>44.197917</td>\n",
       "      <td>0.427431</td>\n",
       "    </tr>\n",
       "    <tr>\n",
       "      <th>3</th>\n",
       "      <td>250</td>\n",
       "      <td>55.982873</td>\n",
       "      <td>44.244391</td>\n",
       "      <td>0.426287</td>\n",
       "    </tr>\n",
       "    <tr>\n",
       "      <th>4</th>\n",
       "      <td>300</td>\n",
       "      <td>56.048701</td>\n",
       "      <td>44.262819</td>\n",
       "      <td>0.424937</td>\n",
       "    </tr>\n",
       "    <tr>\n",
       "      <th>5</th>\n",
       "      <td>350</td>\n",
       "      <td>56.104532</td>\n",
       "      <td>44.270973</td>\n",
       "      <td>0.423791</td>\n",
       "    </tr>\n",
       "    <tr>\n",
       "      <th>6</th>\n",
       "      <td>400</td>\n",
       "      <td>56.147606</td>\n",
       "      <td>44.288405</td>\n",
       "      <td>0.422905</td>\n",
       "    </tr>\n",
       "    <tr>\n",
       "      <th>7</th>\n",
       "      <td>450</td>\n",
       "      <td>56.179836</td>\n",
       "      <td>44.295916</td>\n",
       "      <td>0.422243</td>\n",
       "    </tr>\n",
       "    <tr>\n",
       "      <th>8</th>\n",
       "      <td>500</td>\n",
       "      <td>56.203838</td>\n",
       "      <td>44.298030</td>\n",
       "      <td>0.421749</td>\n",
       "    </tr>\n",
       "  </tbody>\n",
       "</table>\n",
       "</div>"
      ],
      "text/plain": [
       "   epochs       rmse        mae       r^2\n",
       "0      50  58.072886  47.465601  0.382650\n",
       "1     100  56.315298  45.061619  0.419453\n",
       "2     200  55.927006  44.197917  0.427431\n",
       "3     250  55.982873  44.244391  0.426287\n",
       "4     300  56.048701  44.262819  0.424937\n",
       "5     350  56.104532  44.270973  0.423791\n",
       "6     400  56.147606  44.288405  0.422905\n",
       "7     450  56.179836  44.295916  0.422243\n",
       "8     500  56.203838  44.298030  0.421749"
      ]
     },
     "execution_count": 99,
     "metadata": {},
     "output_type": "execute_result"
    }
   ],
   "source": [
    "# we can also compute for different epochs \n",
    "results = []\n",
    "for epochs in [50, 100, 200, 250, 300, 350, 400, 450, 500]:\n",
    "    weights, bias, _ = stochastic_gradient_descent(xtrain_diabetes.values, ytrain_diabetes.values, learning_rate=0.01, epochs=epochs)\n",
    "    y_pred = np.dot(xtest_diabetes.values, weights) + bias\n",
    "    \n",
    "    rmse = np.sqrt(mean_squared_error(ytest_diabetes.values, y_pred))\n",
    "    mae = mean_absolute_error(ytest_diabetes.values, y_pred)\n",
    "    r2 = r2_score(ytest_diabetes.values, y_pred)\n",
    "    \n",
    "    results.append([epochs, rmse, mae, r2])\n",
    "df_results_diabetes = pd.DataFrame(results, columns=['epochs', 'rmse', 'mae', 'r^2'])\n",
    "df_results_diabetes"
   ]
  },
  {
   "cell_type": "markdown",
   "metadata": {
    "id": "GMir3FyVJ5qh"
   },
   "source": [
    "**TASK 5**:\n",
    "  \n",
    "\n",
    "1.   Do the same once again, but this time use the inbuilt gradient descent algorithm (**SGDRegressor**).\n",
    "2.   And compare the performance metrics (RMSE, MAE, R² ) with your own implementation of Gradient Descent as attained above.\n",
    "\n"
   ]
  },
  {
   "cell_type": "code",
   "execution_count": 95,
   "metadata": {
    "id": "7WVqhyXPLxwg"
   },
   "outputs": [
    {
     "name": "stderr",
     "output_type": "stream",
     "text": [
      "/opt/anaconda3/lib/python3.12/site-packages/sklearn/linear_model/_stochastic_gradient.py:1616: ConvergenceWarning: Maximum number of iteration reached before convergence. Consider increasing max_iter to improve the fit.\n",
      "  warnings.warn(\n",
      "/opt/anaconda3/lib/python3.12/site-packages/sklearn/linear_model/_stochastic_gradient.py:1616: ConvergenceWarning: Maximum number of iteration reached before convergence. Consider increasing max_iter to improve the fit.\n",
      "  warnings.warn(\n"
     ]
    },
    {
     "data": {
      "text/html": [
       "<div>\n",
       "<style scoped>\n",
       "    .dataframe tbody tr th:only-of-type {\n",
       "        vertical-align: middle;\n",
       "    }\n",
       "\n",
       "    .dataframe tbody tr th {\n",
       "        vertical-align: top;\n",
       "    }\n",
       "\n",
       "    .dataframe thead th {\n",
       "        text-align: right;\n",
       "    }\n",
       "</style>\n",
       "<table border=\"1\" class=\"dataframe\">\n",
       "  <thead>\n",
       "    <tr style=\"text-align: right;\">\n",
       "      <th></th>\n",
       "      <th>epochs</th>\n",
       "      <th>rmse</th>\n",
       "      <th>mae</th>\n",
       "      <th>r^2</th>\n",
       "    </tr>\n",
       "  </thead>\n",
       "  <tbody>\n",
       "    <tr>\n",
       "      <th>0</th>\n",
       "      <td>50</td>\n",
       "      <td>58.134603</td>\n",
       "      <td>47.923770</td>\n",
       "      <td>0.381337</td>\n",
       "    </tr>\n",
       "    <tr>\n",
       "      <th>1</th>\n",
       "      <td>100</td>\n",
       "      <td>56.286799</td>\n",
       "      <td>45.355818</td>\n",
       "      <td>0.420041</td>\n",
       "    </tr>\n",
       "    <tr>\n",
       "      <th>2</th>\n",
       "      <td>200</td>\n",
       "      <td>56.066588</td>\n",
       "      <td>45.116234</td>\n",
       "      <td>0.424570</td>\n",
       "    </tr>\n",
       "    <tr>\n",
       "      <th>3</th>\n",
       "      <td>250</td>\n",
       "      <td>56.066588</td>\n",
       "      <td>45.116234</td>\n",
       "      <td>0.424570</td>\n",
       "    </tr>\n",
       "    <tr>\n",
       "      <th>4</th>\n",
       "      <td>300</td>\n",
       "      <td>56.066588</td>\n",
       "      <td>45.116234</td>\n",
       "      <td>0.424570</td>\n",
       "    </tr>\n",
       "    <tr>\n",
       "      <th>5</th>\n",
       "      <td>350</td>\n",
       "      <td>56.066588</td>\n",
       "      <td>45.116234</td>\n",
       "      <td>0.424570</td>\n",
       "    </tr>\n",
       "    <tr>\n",
       "      <th>6</th>\n",
       "      <td>400</td>\n",
       "      <td>56.066588</td>\n",
       "      <td>45.116234</td>\n",
       "      <td>0.424570</td>\n",
       "    </tr>\n",
       "    <tr>\n",
       "      <th>7</th>\n",
       "      <td>450</td>\n",
       "      <td>56.066588</td>\n",
       "      <td>45.116234</td>\n",
       "      <td>0.424570</td>\n",
       "    </tr>\n",
       "    <tr>\n",
       "      <th>8</th>\n",
       "      <td>500</td>\n",
       "      <td>56.066588</td>\n",
       "      <td>45.116234</td>\n",
       "      <td>0.424570</td>\n",
       "    </tr>\n",
       "  </tbody>\n",
       "</table>\n",
       "</div>"
      ],
      "text/plain": [
       "   epochs       rmse        mae       r^2\n",
       "0      50  58.134603  47.923770  0.381337\n",
       "1     100  56.286799  45.355818  0.420041\n",
       "2     200  56.066588  45.116234  0.424570\n",
       "3     250  56.066588  45.116234  0.424570\n",
       "4     300  56.066588  45.116234  0.424570\n",
       "5     350  56.066588  45.116234  0.424570\n",
       "6     400  56.066588  45.116234  0.424570\n",
       "7     450  56.066588  45.116234  0.424570\n",
       "8     500  56.066588  45.116234  0.424570"
      ]
     },
     "execution_count": 95,
     "metadata": {},
     "output_type": "execute_result"
    }
   ],
   "source": [
    "from sklearn.linear_model import SGDRegressor\n",
    "\n",
    "results2 = []\n",
    "for epochs in [50, 100, 200, 250, 300, 350, 400, 450, 500]:\n",
    "    sgd = SGDRegressor(max_iter=epochs, learning_rate='constant', eta0=0.01, random_state=42)\n",
    "    sgd.fit(xtrain_diabetes, ytrain_diabetes)\n",
    "    y_pred_sklearn = sgd.predict(xtest_diabetes)\n",
    "\n",
    "    RMSE_SGDRegressor_diabetes = np.sqrt(mean_squared_error(ytest_diabetes, y_pred_sklearn))\n",
    "    MAE_SGDRegressor_diabetes =  mean_absolute_error(ytest_diabetes, y_pred_sklearn)\n",
    "    R2_SGDRegressor_diabetes =  r2_score(ytest_diabetes, y_pred_sklearn)\n",
    "    results2.append([epochs, RMSE_SGDRegressor_diabetes, MAE_SGDRegressor_diabetes, R2_SGDRegressor_diabetes])\n",
    "\n",
    "df_inbuilt_diabetes = pd.DataFrame(results2, columns = ['epochs', 'rmse', 'mae', 'r^2'])\n",
    "# results2.columns = ['epochs', 'rmse', 'mae', 'r^2'] \n",
    "df_inbuilt_diabetes"
   ]
  },
  {
   "cell_type": "markdown",
   "metadata": {
    "id": "s85HMa6EL3c3"
   },
   "source": [
    "**TASK 6**:\n",
    "\n",
    "\n",
    "1.   The above tasks should be done for both the datasets as imported in *Task 1*.\n",
    "2.   And, you must analyze the difference in the results that you get in *Task 4* and *Task 5*.\n",
    "\n"
   ]
  },
  {
   "cell_type": "code",
   "execution_count": 125,
   "metadata": {
    "id": "ISqvxACOMec8"
   },
   "outputs": [
    {
     "data": {
      "image/png": "[encoded data removed]",
      "text/plain": [
       "<Figure size 1000x600 with 1 Axes>"
      ]
     },
     "metadata": {},
     "output_type": "display_data"
    }
   ],
   "source": [
    "plt.figure(figsize=(10, 6))\n",
    "metrics = ['rmse', 'mae', 'r^2']\n",
    "colors = ['red', 'blue', 'green']\n",
    "colors2 = ['black', 'pink', 'orange']\n",
    "marker = 'p'\n",
    "marker2 = '*'\n",
    "for i, metric in enumerate(metrics):\n",
    "    plt.plot(df_results_diabetes[metric], df_results_diabetes['epochs'], label=f'Result1 - {metric}', \n",
    "             color=colors[i], marker=marker, markersize = 10)\n",
    "    plt.plot(df_inbuilt_diabetes[metric], df_inbuilt_diabetes['epochs'], label=f'Result2 - {metric}', \n",
    "             color=colors2[i], marker=marker2, markersize = 7)\n",
    "\n",
    "plt.xlabel(\"Metric Value (RMSE, MAE, R²)\")\n",
    "plt.ylabel(\"Epochs\")\n",
    "plt.title(\"Comparison of Manual SGD vs. SGDRegressor\")\n",
    "plt.legend()\n",
    "plt.show()"
   ]
  }
 ],
 "metadata": {
  "colab": {
   "provenance": []
  },
  "kernelspec": {
   "display_name": "Python [conda env:base] *",
   "language": "python",
   "name": "conda-base-py"
  },
  "language_info": {
   "codemirror_mode": {
    "name": "ipython",
    "version": 3
   },
   "file_extension": ".py",
   "mimetype": "text/x-python",
   "name": "python",
   "nbconvert_exporter": "python",
   "pygments_lexer": "ipython3",
   "version": "3.12.7"
  }
 },
 "nbformat": 4,
 "nbformat_minor": 4
}
